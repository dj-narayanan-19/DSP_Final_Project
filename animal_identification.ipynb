{
 "cells": [
  {
   "cell_type": "code",
   "execution_count": 13,
   "metadata": {},
   "outputs": [],
   "source": [
    "from extractEvents import AnimalEventDetector\n",
    "import matplotlib.pyplot as plt\n",
    "import numpy as np\n",
    "import subprocess\n",
    "import pandas as pd\n",
    "from pydub import AudioSegment\n",
    "import os\n",
    "from scipy.signal import correlate"
   ]
  },
  {
   "cell_type": "code",
   "execution_count": 16,
   "metadata": {},
   "outputs": [],
   "source": [
    "file_name  = './bird_audio_track.m4a'\n",
    "amplitude_threshold = 0.05\n",
    "min_event_duration = 10_000\n",
    "sample_rate = 44100\n",
    "band = (370, 400)\n",
    "ema_alpha=0.01"
   ]
  },
  {
   "cell_type": "code",
   "execution_count": 17,
   "metadata": {},
   "outputs": [
    {
     "name": "stdout",
     "output_type": "stream",
     "text": [
      "<pydub.audio_segment.AudioSegment object at 0x7f7e904fde50>\n"
     ]
    },
    {
     "data": {
      "text/plain": [
       "[(417965, 897965), (7776365, 8256365), (8736523, 9216523)]"
      ]
     },
     "execution_count": 17,
     "metadata": {},
     "output_type": "execute_result"
    }
   ],
   "source": [
    "detector = AnimalEventDetector(amplitude_threshold, min_event_duration, sample_rate, band, ema_alpha)\n",
    "detector.load_audio(file_name)\n",
    "events = detector.detect_events(filter=False)\n",
    "events"
   ]
  },
  {
   "cell_type": "code",
   "execution_count": 35,
   "metadata": {},
   "outputs": [
    {
     "data": {
      "text/plain": [
       "Text(0.5, 1.0, 'Identifying Bird Activity')"
      ]
     },
     "execution_count": 35,
     "metadata": {},
     "output_type": "execute_result"
    },
    {
     "data": {
      "image/png": "[encoded data removed]",
      "text/plain": [
       "<Figure size 720x360 with 1 Axes>"
      ]
     },
     "metadata": {
      "needs_background": "light"
     },
     "output_type": "display_data"
    }
   ],
   "source": [
    "rng = np.arange(detector.audio_array.shape[0])\n",
    "plt.figure(figsize=(10,5))\n",
    "plt.plot(rng, detector.audio_array, label='Input Audio Signal')\n",
    "for i, event in enumerate(detector.events):\n",
    "    plt.plot(rng[event[0]:event[1]], detector.audio_array[event[0]:event[1]], label=f'Event {i+1}')\n",
    "plt.grid()\n",
    "plt.legend()\n",
    "plt.xlabel('Sample')\n",
    "plt.ylabel('Amplitude')\n",
    "plt.title('Identifying Bird Activity')"
   ]
  },
  {
   "cell_type": "code",
   "execution_count": 19,
   "metadata": {},
   "outputs": [],
   "source": [
    "def load_audio(file_path):\n",
    "    audio = AudioSegment.from_file(file_path)\n",
    "    samples = np.array(audio.get_array_of_samples(), dtype=np.float32)\n",
    "    max_amplitude = np.max(np.abs(samples))\n",
    "    if max_amplitude > 0:\n",
    "        samples = samples / max_amplitude\n",
    "    return samples\n",
    "\n",
    "path = '../data'\n",
    "files = os.listdir(path)\n",
    "np.random.seed(4810)\n",
    "np.random.shuffle(files)\n",
    "random_animals = files[:5] + ['Puffinus_nativitatis.mp3', 'Falco_peregrinus.mp3', 'Cyanocitta_cristata.mp3']\n",
    "\n",
    "correlations = {event[0]: {} for event in detector.events}\n",
    "normal_correlations = {event[0]: {} for event in detector.events}\n",
    "filtered_correlations = {event[0]: {} for event in detector.events}\n",
    "normal_filtered_correlations = {event[0]: {} for event in detector.events}\n",
    "\n",
    "for file in random_animals:\n",
    "    animal = file.split('.')[0].replace('_', ' ')\n",
    "    try:\n",
    "        sample = load_audio(path+'/'+file)\n",
    "        sample_filtered = detector.filter_frequencies(sample)\n",
    "        for event in detector.events:\n",
    "            signal = detector.audio_array[event[0]:event[1]]\n",
    "            correlation = correlate(signal, sample, mode='full')\n",
    "            correlations[event[0]][animal] = np.max(correlation)\n",
    "            normal_correlations[event[0]][animal] = np.max(correlation)/(np.std(signal)*np.std(sample))\n",
    "\n",
    "            signal_filtered = detector.filter_frequencies(signal)\n",
    "            filtered_correlation = correlate(signal_filtered, sample_filtered, mode='full')\n",
    "            filtered_correlations[event[0]][animal] = np.max(filtered_correlation)\n",
    "            normal_filtered_correlations[event[0]][animal] = np.max(filtered_correlation)/(np.std(signal_filtered)*np.std(sample_filtered))\n",
    "    except Exception as e:\n",
    "        print(animal)\n",
    "        print(e)"
   ]
  },
  {
   "cell_type": "code",
   "execution_count": 20,
   "metadata": {},
   "outputs": [],
   "source": [
    "df = pd.DataFrame(correlations)\n",
    "df.to_csv('../correlations_new.csv')\n",
    "df_norm = pd.DataFrame(normal_correlations)\n",
    "df_norm.to_csv('../correlations_new_normal.csv')\n",
    "df_f = pd.DataFrame(filtered_correlations)\n",
    "df_f.to_csv('../correlations_new_f.csv')\n",
    "df_f_norm = pd.DataFrame(normal_filtered_correlations)\n",
    "df_f_norm.to_csv('../correlations_new_f_normal.csv')"
   ]
  },
  {
   "cell_type": "code",
   "execution_count": 37,
   "metadata": {},
   "outputs": [
    {
     "data": {
      "text/html": [
       "<div>\n",
       "<style scoped>\n",
       "    .dataframe tbody tr th:only-of-type {\n",
       "        vertical-align: middle;\n",
       "    }\n",
       "\n",
       "    .dataframe tbody tr th {\n",
       "        vertical-align: top;\n",
       "    }\n",
       "\n",
       "    .dataframe thead th {\n",
       "        text-align: right;\n",
       "    }\n",
       "</style>\n",
       "<table border=\"1\" class=\"dataframe\">\n",
       "  <thead>\n",
       "    <tr style=\"text-align: right;\">\n",
       "      <th></th>\n",
       "      <th>Ground Truth</th>\n",
       "      <th>Correlation</th>\n",
       "      <th>Filtered Correlation</th>\n",
       "      <th>Normalized Correlation</th>\n",
       "      <th>Filtered &amp; Normalized Correlation</th>\n",
       "      <th>True Starting Time</th>\n",
       "      <th>Estimated Starting Time</th>\n",
       "    </tr>\n",
       "  </thead>\n",
       "  <tbody>\n",
       "    <tr>\n",
       "      <th>Event 1</th>\n",
       "      <td>Falco peregrinus</td>\n",
       "      <td>Cyanocitta cristata</td>\n",
       "      <td>Numenius tahitiensis</td>\n",
       "      <td>Cyanocitta cristata</td>\n",
       "      <td>Puffinus nativitatis</td>\n",
       "      <td>4</td>\n",
       "      <td>4.353803</td>\n",
       "    </tr>\n",
       "    <tr>\n",
       "      <th>Event 2</th>\n",
       "      <td>Puffinus nativitatis</td>\n",
       "      <td>Falco peregrinus</td>\n",
       "      <td>Numenius tahitiensis</td>\n",
       "      <td>Puffinus nativitatis</td>\n",
       "      <td>Puffinus nativitatis</td>\n",
       "      <td>81</td>\n",
       "      <td>81.003811</td>\n",
       "    </tr>\n",
       "    <tr>\n",
       "      <th>Event 3</th>\n",
       "      <td>Cyanocitta cristata</td>\n",
       "      <td>Falco peregrinus</td>\n",
       "      <td>Numenius tahitiensis</td>\n",
       "      <td>Falco peregrinus</td>\n",
       "      <td>Cyanocitta cristata</td>\n",
       "      <td>91</td>\n",
       "      <td>91.005457</td>\n",
       "    </tr>\n",
       "  </tbody>\n",
       "</table>\n",
       "</div>"
      ],
      "text/plain": [
       "                 Ground Truth          Correlation  Filtered Correlation  \\\n",
       "Event 1      Falco peregrinus  Cyanocitta cristata  Numenius tahitiensis   \n",
       "Event 2  Puffinus nativitatis     Falco peregrinus  Numenius tahitiensis   \n",
       "Event 3   Cyanocitta cristata     Falco peregrinus  Numenius tahitiensis   \n",
       "\n",
       "        Normalized Correlation Filtered & Normalized Correlation  \\\n",
       "Event 1    Cyanocitta cristata              Puffinus nativitatis   \n",
       "Event 2   Puffinus nativitatis              Puffinus nativitatis   \n",
       "Event 3       Falco peregrinus               Cyanocitta cristata   \n",
       "\n",
       "         True Starting Time  Estimated Starting Time  \n",
       "Event 1                   4                 4.353803  \n",
       "Event 2                  81                81.003811  \n",
       "Event 3                  91                91.005457  "
      ]
     },
     "execution_count": 37,
     "metadata": {},
     "output_type": "execute_result"
    }
   ],
   "source": [
    "df = pd.read_csv('../correlations_new.csv', index_col=0)\n",
    "df_norm = pd.read_csv('../correlations_new_normal.csv', index_col=0)\n",
    "df_f = pd.read_csv('../correlations_new_f.csv', index_col=0)\n",
    "df_f_norm = pd.read_csv('../correlations_new_f_normal.csv', index_col=0)\n",
    "\n",
    "results = {\n",
    "    'Ground Truth': {'7776365': 'Puffinus nativitatis', '8736523': 'Cyanocitta cristata', '417965': 'Falco peregrinus'},\n",
    "    'Correlation': df.idxmax(),\n",
    "    'Filtered Correlation': df_f.idxmax(),\n",
    "    'Normalized Correlation': df_norm.idxmax(),\n",
    "    'Filtered & Normalized Correlation': df_f_norm.idxmax(),\n",
    "    'True Starting Time': {'7776365': 81, '8736523': 91, '417965': 4}\n",
    "}\n",
    "results_frame = pd.DataFrame(results)\n",
    "results_frame['Estimated Starting Time'] = (100 * results_frame.index.astype(int)/rng[-1])\n",
    "results_frame.rename({'7776365': 'Event 2', '8736523': 'Event 3', '417965': 'Event 1'}).sort_index()"
   ]
  },
  {
   "cell_type": "code",
   "execution_count": 39,
   "metadata": {},
   "outputs": [
    {
     "data": {
      "text/html": [
       "<div>\n",
       "<style scoped>\n",
       "    .dataframe tbody tr th:only-of-type {\n",
       "        vertical-align: middle;\n",
       "    }\n",
       "\n",
       "    .dataframe tbody tr th {\n",
       "        vertical-align: top;\n",
       "    }\n",
       "\n",
       "    .dataframe thead th {\n",
       "        text-align: right;\n",
       "    }\n",
       "</style>\n",
       "<table border=\"1\" class=\"dataframe\">\n",
       "  <thead>\n",
       "    <tr style=\"text-align: right;\">\n",
       "      <th></th>\n",
       "      <th>Event 1</th>\n",
       "      <th>Event 2</th>\n",
       "      <th>Event 3</th>\n",
       "    </tr>\n",
       "  </thead>\n",
       "  <tbody>\n",
       "    <tr>\n",
       "      <th>True Starting Time</th>\n",
       "      <td>4.000000</td>\n",
       "      <td>81.000000</td>\n",
       "      <td>91.000000</td>\n",
       "    </tr>\n",
       "    <tr>\n",
       "      <th>Estimated Starting Time</th>\n",
       "      <td>4.353803</td>\n",
       "      <td>81.003811</td>\n",
       "      <td>91.005457</td>\n",
       "    </tr>\n",
       "  </tbody>\n",
       "</table>\n",
       "</div>"
      ],
      "text/plain": [
       "                          Event 1    Event 2    Event 3\n",
       "True Starting Time       4.000000  81.000000  91.000000\n",
       "Estimated Starting Time  4.353803  81.003811  91.005457"
      ]
     },
     "execution_count": 39,
     "metadata": {},
     "output_type": "execute_result"
    }
   ],
   "source": [
    "results_frame.rename({'7776365': 'Event 2', '8736523': 'Event 3', '417965': 'Event 1'})[['True Starting Time', 'Estimated Starting Time']].sort_index().T"
   ]
  },
  {
   "cell_type": "code",
   "execution_count": 44,
   "metadata": {},
   "outputs": [
    {
     "data": {
      "text/html": [
       "<div>\n",
       "<style scoped>\n",
       "    .dataframe tbody tr th:only-of-type {\n",
       "        vertical-align: middle;\n",
       "    }\n",
       "\n",
       "    .dataframe tbody tr th {\n",
       "        vertical-align: top;\n",
       "    }\n",
       "\n",
       "    .dataframe thead th {\n",
       "        text-align: right;\n",
       "    }\n",
       "</style>\n",
       "<table border=\"1\" class=\"dataframe\">\n",
       "  <thead>\n",
       "    <tr style=\"text-align: right;\">\n",
       "      <th></th>\n",
       "      <th>Event 1</th>\n",
       "      <th>Event 2</th>\n",
       "      <th>Event 3</th>\n",
       "    </tr>\n",
       "  </thead>\n",
       "  <tbody>\n",
       "    <tr>\n",
       "      <th>Ground Truth</th>\n",
       "      <td>Falco peregrinus</td>\n",
       "      <td>Puffinus nativitatis</td>\n",
       "      <td>Cyanocitta cristata</td>\n",
       "    </tr>\n",
       "    <tr>\n",
       "      <th>Correlation</th>\n",
       "      <td>Cyanocitta cristata</td>\n",
       "      <td>Falco peregrinus</td>\n",
       "      <td>Falco peregrinus</td>\n",
       "    </tr>\n",
       "    <tr>\n",
       "      <th>Filtered Correlation</th>\n",
       "      <td>Numenius tahitiensis</td>\n",
       "      <td>Numenius tahitiensis</td>\n",
       "      <td>Numenius tahitiensis</td>\n",
       "    </tr>\n",
       "    <tr>\n",
       "      <th>Normalized Correlation</th>\n",
       "      <td>Cyanocitta cristata</td>\n",
       "      <td>Puffinus nativitatis</td>\n",
       "      <td>Falco peregrinus</td>\n",
       "    </tr>\n",
       "    <tr>\n",
       "      <th>Filtered &amp; Normalized Correlation</th>\n",
       "      <td>Puffinus nativitatis</td>\n",
       "      <td>Puffinus nativitatis</td>\n",
       "      <td>Cyanocitta cristata</td>\n",
       "    </tr>\n",
       "  </tbody>\n",
       "</table>\n",
       "</div>"
      ],
      "text/plain": [
       "                                                Event 1               Event 2  \\\n",
       "Ground Truth                           Falco peregrinus  Puffinus nativitatis   \n",
       "Correlation                         Cyanocitta cristata      Falco peregrinus   \n",
       "Filtered Correlation               Numenius tahitiensis  Numenius tahitiensis   \n",
       "Normalized Correlation              Cyanocitta cristata  Puffinus nativitatis   \n",
       "Filtered & Normalized Correlation  Puffinus nativitatis  Puffinus nativitatis   \n",
       "\n",
       "                                                Event 3  \n",
       "Ground Truth                        Cyanocitta cristata  \n",
       "Correlation                            Falco peregrinus  \n",
       "Filtered Correlation               Numenius tahitiensis  \n",
       "Normalized Correlation                 Falco peregrinus  \n",
       "Filtered & Normalized Correlation   Cyanocitta cristata  "
      ]
     },
     "execution_count": 44,
     "metadata": {},
     "output_type": "execute_result"
    }
   ],
   "source": [
    "results_frame.rename({'7776365': 'Event 2', '8736523': 'Event 3', '417965': 'Event 1'})[\n",
    "    ['Ground Truth', 'Correlation', 'Filtered Correlation', 'Normalized Correlation', 'Filtered & Normalized Correlation']\n",
    "].sort_index().T"
   ]
  },
  {
   "cell_type": "code",
   "execution_count": null,
   "metadata": {},
   "outputs": [],
   "source": []
  }
 ],
 "metadata": {
  "kernelspec": {
   "display_name": "base",
   "language": "python",
   "name": "python3"
  },
  "language_info": {
   "codemirror_mode": {
    "name": "ipython",
    "version": 3
   },
   "file_extension": ".py",
   "mimetype": "text/x-python",
   "name": "python",
   "nbconvert_exporter": "python",
   "pygments_lexer": "ipython3",
   "version": "3.9.12"
  }
 },
 "nbformat": 4,
 "nbformat_minor": 2
}
