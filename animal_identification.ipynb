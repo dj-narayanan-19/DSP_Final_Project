{
 "cells": [
  {
   "cell_type": "code",
   "execution_count": 82,
   "metadata": {},
   "outputs": [],
   "source": [
    "from extractEvents import AnimalEventDetector\n",
    "import matplotlib.pyplot as plt\n",
    "import numpy as np\n",
    "import subprocess\n",
    "import pandas as pd\n",
    "from pydub import AudioSegment\n",
    "import os\n",
    "from scipy.signal import correlate"
   ]
  },
  {
   "cell_type": "code",
   "execution_count": 76,
   "metadata": {},
   "outputs": [],
   "source": [
    "file_name  = './bird_audio_track.m4a'\n",
    "amplitude_threshold = 0.05\n",
    "min_event_duration = 10_000\n",
    "sample_rate = 44100\n",
    "band = (370, 400)\n",
    "ema_alpha=0.01"
   ]
  },
  {
   "cell_type": "code",
   "execution_count": 77,
   "metadata": {},
   "outputs": [
    {
     "name": "stdout",
     "output_type": "stream",
     "text": [
      "<pydub.audio_segment.AudioSegment object at 0x7fbf6b6d0cd0>\n"
     ]
    },
    {
     "data": {
      "text/plain": [
       "[(768362, 1248362), (3360523, 3840523), (8959753, 9439753)]"
      ]
     },
     "execution_count": 77,
     "metadata": {},
     "output_type": "execute_result"
    }
   ],
   "source": [
    "detector = AnimalEventDetector(amplitude_threshold, min_event_duration, sample_rate, band, ema_alpha)\n",
    "detector.load_audio(file_name)\n",
    "events = detector.detect_events(filter=False)\n",
    "events"
   ]
  },
  {
   "cell_type": "code",
   "execution_count": 79,
   "metadata": {},
   "outputs": [
    {
     "data": {
      "text/plain": [
       "Text(0.5, 1.0, 'Identifying Bird Activity')"
      ]
     },
     "execution_count": 79,
     "metadata": {},
     "output_type": "execute_result"
    },
    {
     "data": {
      "image/png": "[encoded data removed]",
      "text/plain": [
       "<Figure size 720x360 with 1 Axes>"
      ]
     },
     "metadata": {
      "needs_background": "light"
     },
     "output_type": "display_data"
    }
   ],
   "source": [
    "rng = np.arange(detector.audio_array.shape[0])\n",
    "plt.figure(figsize=(10,5))\n",
    "plt.plot(rng, detector.audio_array, label='Input Audio Signal')\n",
    "for event in detector.events:\n",
    "    plt.plot(rng[event[0]:event[1]], detector.audio_array[event[0]:event[1]])\n",
    "plt.grid()\n",
    "plt.title('Identifying Bird Activity')"
   ]
  },
  {
   "cell_type": "code",
   "execution_count": 100,
   "metadata": {},
   "outputs": [
    {
     "name": "stdout",
     "output_type": "stream",
     "text": [
      "Decoding failed. ffmpeg returned error code: 183\n",
      "\n",
      "Output from ffmpeg/avlib:\n",
      "\n",
      "ffmpeg version 7.1 Copyright (c) 2000-2024 the FFmpeg developers\n",
      "  built with Apple clang version 16.0.0 (clang-1600.0.26.4)\n",
      "  configuration: --prefix=/opt/homebrew/Cellar/ffmpeg/7.1_3 --enable-shared --enable-pthreads --enable-version3 --cc=clang --host-cflags= --host-ldflags='-Wl,-ld_classic' --enable-ffplay --enable-gnutls --enable-gpl --enable-libaom --enable-libaribb24 --enable-libbluray --enable-libdav1d --enable-libharfbuzz --enable-libjxl --enable-libmp3lame --enable-libopus --enable-librav1e --enable-librist --enable-librubberband --enable-libsnappy --enable-libsrt --enable-libssh --enable-libsvtav1 --enable-libtesseract --enable-libtheora --enable-libvidstab --enable-libvmaf --enable-libvorbis --enable-libvpx --enable-libwebp --enable-libx264 --enable-libx265 --enable-libxml2 --enable-libxvid --enable-lzma --enable-libfontconfig --enable-libfreetype --enable-frei0r --enable-libass --enable-libopencore-amrnb --enable-libopencore-amrwb --enable-libopenjpeg --enable-libspeex --enable-libsoxr --enable-libzmq --enable-libzimg --disable-libjack --disable-indev=jack --enable-videotoolbox --enable-audiotoolbox --enable-neon\n",
      "  libavutil      59. 39.100 / 59. 39.100\n",
      "  libavcodec     61. 19.100 / 61. 19.100\n",
      "  libavformat    61.  7.100 / 61.  7.100\n",
      "  libavdevice    61.  3.100 / 61.  3.100\n",
      "  libavfilter    10.  4.100 / 10.  4.100\n",
      "  libswscale      8.  3.100 /  8.  3.100\n",
      "  libswresample   5.  3.100 /  5.  3.100\n",
      "  libpostproc    58.  3.100 / 58.  3.100\n",
      "[mp3 @ 0x11d705a40] Format mp3 detected only with low score of 1, misdetection possible!\n",
      "[mp3 @ 0x11d705a40] Failed to find two consecutive MPEG audio frames.\n",
      "[in#0 @ 0x11d7057f0] Error opening input: Invalid data found when processing input\n",
      "Error opening input file ../data/Parkesia_motacilla.mp3.\n",
      "Error opening input files: Invalid data found when processing input\n",
      "\n"
     ]
    }
   ],
   "source": [
    "def load_audio(file_path):\n",
    "    audio = AudioSegment.from_file(file_path)\n",
    "    samples = np.array(audio.get_array_of_samples(), dtype=np.float32)\n",
    "    max_amplitude = np.max(np.abs(samples))\n",
    "    if max_amplitude > 0:\n",
    "        samples = samples / max_amplitude\n",
    "    return samples\n",
    "\n",
    "path = '../data'\n",
    "correlations = {event[0]: {} for event in detector.events}\n",
    "normal_correlations = {event[0]: {} for event in detector.events}\n",
    "filtered_correlations = {event[0]: {} for event in detector.events}\n",
    "normal_filtered_correlations = {event[0]: {} for event in detector.events}\n",
    "\n",
    "for file in os.listdir(path):\n",
    "    animal = file.split('.')[0].replace('_', ' ')\n",
    "    try:\n",
    "        sample = load_audio(path+'/'+file)\n",
    "        sample_filtered = detector.filter_frequencies(sample)\n",
    "        for event in detector.events:\n",
    "            signal = detector.audio_array[event[0]:event[1]]\n",
    "            correlation = correlate(signal, sample, mode='full')\n",
    "            correlations[event[0]][animal] = np.max(correlation)\n",
    "            normal_correlations[event[0]][animal] = np.max(correlation)/(np.std(signal)*np.std(sample))\n",
    "\n",
    "            signal_filtered = detector.filter_frequencies(signal)\n",
    "            filtered_correlation = correlate(signal_filtered, sample_filtered, mode='full')\n",
    "            filtered_correlations[event[0]][animal] = np.max(filtered_correlation)\n",
    "            normal_filtered_correlations[event[0]][animal] = np.max(filtered_correlation)/(np.std(signal_filtered)*np.std(sample_filtered))\n",
    "    except Exception as e:\n",
    "        print(e)"
   ]
  },
  {
   "cell_type": "code",
   "execution_count": 101,
   "metadata": {},
   "outputs": [],
   "source": [
    "df = pd.DataFrame(correlations)\n",
    "df.to_csv('../correlations_new.csv')\n",
    "df_norm = pd.DataFrame(normal_correlations)\n",
    "df_norm.to_csv('../correlations_new_normal.csv')\n",
    "df_f = pd.DataFrame(filtered_correlations)\n",
    "df_f.to_csv('../correlations_new_f.csv')\n",
    "df_f_norm = pd.DataFrame(normal_filtered_correlations)\n",
    "df_f_norm.to_csv('../correlations_new_f_normal.csv')"
   ]
  },
  {
   "cell_type": "code",
   "execution_count": 112,
   "metadata": {},
   "outputs": [
    {
     "data": {
      "text/plain": [
       "768362     Zonotrichia atricapilla\n",
       "3360523          Catharus guttatus\n",
       "8959753         Accipiter gentilis\n",
       "dtype: object"
      ]
     },
     "execution_count": 112,
     "metadata": {},
     "output_type": "execute_result"
    }
   ],
   "source": [
    "df.idxmax()"
   ]
  },
  {
   "cell_type": "code",
   "execution_count": 113,
   "metadata": {},
   "outputs": [
    {
     "data": {
      "text/html": [
       "<div>\n",
       "<style scoped>\n",
       "    .dataframe tbody tr th:only-of-type {\n",
       "        vertical-align: middle;\n",
       "    }\n",
       "\n",
       "    .dataframe tbody tr th {\n",
       "        vertical-align: top;\n",
       "    }\n",
       "\n",
       "    .dataframe thead th {\n",
       "        text-align: right;\n",
       "    }\n",
       "</style>\n",
       "<table border=\"1\" class=\"dataframe\">\n",
       "  <thead>\n",
       "    <tr style=\"text-align: right;\">\n",
       "      <th></th>\n",
       "      <th>768362</th>\n",
       "      <th>3360523</th>\n",
       "      <th>8959753</th>\n",
       "    </tr>\n",
       "  </thead>\n",
       "  <tbody>\n",
       "    <tr>\n",
       "      <th>Spinus psaltria</th>\n",
       "      <td>6.323251</td>\n",
       "      <td>8.052062</td>\n",
       "      <td>0.905927</td>\n",
       "    </tr>\n",
       "    <tr>\n",
       "      <th>Psiloscops flammeolus</th>\n",
       "      <td>3.849949</td>\n",
       "      <td>18.595196</td>\n",
       "      <td>9.084684</td>\n",
       "    </tr>\n",
       "    <tr>\n",
       "      <th>Leucolia violiceps</th>\n",
       "      <td>22.243238</td>\n",
       "      <td>23.664175</td>\n",
       "      <td>4.259813</td>\n",
       "    </tr>\n",
       "    <tr>\n",
       "      <th>Scolopax minor</th>\n",
       "      <td>64.470551</td>\n",
       "      <td>26.513483</td>\n",
       "      <td>2.703647</td>\n",
       "    </tr>\n",
       "    <tr>\n",
       "      <th>Fulica americana</th>\n",
       "      <td>16.537624</td>\n",
       "      <td>27.008741</td>\n",
       "      <td>9.823241</td>\n",
       "    </tr>\n",
       "    <tr>\n",
       "      <th>...</th>\n",
       "      <td>...</td>\n",
       "      <td>...</td>\n",
       "      <td>...</td>\n",
       "    </tr>\n",
       "    <tr>\n",
       "      <th>Limosa lapponica</th>\n",
       "      <td>74.392921</td>\n",
       "      <td>340.097046</td>\n",
       "      <td>244.825211</td>\n",
       "    </tr>\n",
       "    <tr>\n",
       "      <th>Pyrocephalus obscurus</th>\n",
       "      <td>44.952122</td>\n",
       "      <td>342.152100</td>\n",
       "      <td>139.278885</td>\n",
       "    </tr>\n",
       "    <tr>\n",
       "      <th>Accipiter gentilis</th>\n",
       "      <td>34.457268</td>\n",
       "      <td>355.836029</td>\n",
       "      <td>283.182190</td>\n",
       "    </tr>\n",
       "    <tr>\n",
       "      <th>Pluvialis dominica</th>\n",
       "      <td>155.119110</td>\n",
       "      <td>359.632324</td>\n",
       "      <td>173.133713</td>\n",
       "    </tr>\n",
       "    <tr>\n",
       "      <th>Catharus guttatus</th>\n",
       "      <td>88.215294</td>\n",
       "      <td>392.635956</td>\n",
       "      <td>186.515259</td>\n",
       "    </tr>\n",
       "  </tbody>\n",
       "</table>\n",
       "<p>643 rows × 3 columns</p>\n",
       "</div>"
      ],
      "text/plain": [
       "                          768362      3360523     8959753\n",
       "Spinus psaltria          6.323251    8.052062    0.905927\n",
       "Psiloscops flammeolus    3.849949   18.595196    9.084684\n",
       "Leucolia violiceps      22.243238   23.664175    4.259813\n",
       "Scolopax minor          64.470551   26.513483    2.703647\n",
       "Fulica americana        16.537624   27.008741    9.823241\n",
       "...                           ...         ...         ...\n",
       "Limosa lapponica        74.392921  340.097046  244.825211\n",
       "Pyrocephalus obscurus   44.952122  342.152100  139.278885\n",
       "Accipiter gentilis      34.457268  355.836029  283.182190\n",
       "Pluvialis dominica     155.119110  359.632324  173.133713\n",
       "Catharus guttatus       88.215294  392.635956  186.515259\n",
       "\n",
       "[643 rows x 3 columns]"
      ]
     },
     "execution_count": 113,
     "metadata": {},
     "output_type": "execute_result"
    }
   ],
   "source": [
    "df.sort_values(3360523)"
   ]
  },
  {
   "cell_type": "code",
   "execution_count": 114,
   "metadata": {},
   "outputs": [
    {
     "data": {
      "text/plain": [
       "768362     30.541933\n",
       "3360523    41.379639\n",
       "8959753     8.141680\n",
       "Name: Puffinus nativitatis, dtype: float32"
      ]
     },
     "execution_count": 114,
     "metadata": {},
     "output_type": "execute_result"
    }
   ],
   "source": [
    "df.loc['Puffinus nativitatis']"
   ]
  }
 ],
 "metadata": {
  "kernelspec": {
   "display_name": "Python 3",
   "language": "python",
   "name": "python3"
  },
  "language_info": {
   "codemirror_mode": {
    "name": "ipython",
    "version": 3
   },
   "file_extension": ".py",
   "mimetype": "text/x-python",
   "name": "python",
   "nbconvert_exporter": "python",
   "pygments_lexer": "ipython3",
   "version": "3.9.12"
  }
 },
 "nbformat": 4,
 "nbformat_minor": 2
}
